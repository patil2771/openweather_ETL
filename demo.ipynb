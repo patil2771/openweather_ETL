{
 "cells": [
  {
   "cell_type": "code",
   "execution_count": 3,
   "id": "4a9d1700-d18b-43f9-b557-cff76e3797c5",
   "metadata": {
    "vscode": {
     "languageId": "python"
    }
   },
   "outputs": [],
   "source": [
    "import os\n",
    "import requests\n",
    "import pandas as pd\n",
    "from dotenv import load_dotenv\n",
    "\n",
    "# Load sensitive creds from .env file\n",
    "load_dotenv()\n",
    "Api_key = os.getenv(\"API_KEY\")\n",
    "\n",
    "# Define base URL\n",
    "base_url = \"http://api.openweathermap.org/data/2.5/weather\"\n",
    "\n",
    "# Creating ETL pipeline\n",
    "\n",
    "# 1. Extract\n",
    "def extract_data(city):\n",
    "    url = f\"{base_url}?q={city}&appid={Api_key}&units=metric\"\n",
    "    response = requests.get(url)\n",
    "    response.raise_for_status()  # Raises an error for bad status codes\n",
    "    return response.json()\n",
    "\n",
    "# 2. Transform\n",
    "def transform_data(data):\n",
    "    transformed_data = {\n",
    "        \"city\": data[\"name\"],\n",
    "        \"temperature\": data[\"main\"][\"temp\"],\n",
    "        \"description\": data[\"weather\"][0][\"description\"]\n",
    "    }\n",
    "    return transformed_data\n",
    "\n",
    "# 3. Load\n",
    "def load_data(data, filename):\n",
    "    df = pd.DataFrame([data])\n",
    "    df.to_csv(filename, index=False)\n",
    "\n",
    "# Run ETL pipeline\n",
    "def run_etl_pipeline(city):\n",
    "    data = extract_data(city)\n",
    "    transformed_data = transform_data(data)\n",
    "    load_data(transformed_data, \"weather_data.csv\")\n",
    "\n",
    "# Call the function with the desired city\n",
    "city = \"Japan\"\n",
    "run_etl_pipeline(city)\n"
   ]
  },
  {
   "cell_type": "code",
   "execution_count": null,
   "id": "93010641-527e-49aa-85dd-764ff61d40d4",
   "metadata": {},
   "outputs": [],
   "source": []
  },
  {
   "cell_type": "code",
   "execution_count": null,
   "id": "f135e036-8381-4be8-8128-9838a01400f6",
   "metadata": {},
   "outputs": [],
   "source": []
  }
 ],
 "metadata": {
  "kernelspec": {
   "display_name": "Python 3 (ipykernel)",
   "language": "python",
   "name": "python3"
  },
  "language_info": {
   "codemirror_mode": {
    "name": "ipython",
    "version": 3
   },
   "file_extension": ".py",
   "mimetype": "text/x-python",
   "name": "python",
   "nbconvert_exporter": "python",
   "pygments_lexer": "ipython3",
   "version": "3.12.3"
  }
 },
 "nbformat": 4,
 "nbformat_minor": 5
}
